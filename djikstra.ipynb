{
 "cells": [
  {
   "cell_type": "code",
   "execution_count": 1,
   "metadata": {},
   "outputs": [],
   "source": [
    "class Djikstra:\n",
    "    def __init__(self):\n",
    "        self.stations = {}\n",
    "        for station in data:\n",
    "            self.stations[station[\"name\"]] = station[\"name\"]\n",
    "            self.stations[station[\"lat\"]] = station[\"lat\"]\n",
    "            self.stations[\"lng\"] = station[\"lng\"]\n",
    "            \n",
    "    def deg2rad(self, deg):\n",
    "        return deg * (math.pi/180)\n",
    "\n",
    "    def distance(self, a, b):   \n",
    "        R = 6371                \n",
    "        dLat = deg2rad(a[\"lat\"] - b[\"lat\"])\n",
    "        dLng = deg2rad(a[\"lng\"] - b[\"lng\"])\n",
    "        A =  math.sin(dLat/2) * math.sin(dLat/2) + math.cos(deg2rad(a.lat)) * math.cos(deg2rad(b.lat)) * math.sin(dLng/2) * math.sin(dLng/2) \n",
    "        C = 2 * math.atan2(math.sqrt(A), math.sqrt(1-A)) \n",
    "        D = R * C  \n",
    "\n",
    "        return D\n",
    "    \n",
    "    def constructGraph(self):\n",
    "        self.graph = {}\n",
    "        for point in self.stations:\n",
    "            for adj in self.stations:\n",
    "                if (point == adj):\n",
    "                    continue\n",
    "                if (self.distance(self.stations[point], self.stations[adj]) <= max_dis ):\n",
    "                    self.graph[point] = self.graph[point] or {}\n",
    "                    self.graph[point][adj] = self.distance(self.stations[point], self.stations[adj])\n",
    "        \n"
   ]
  },
  {
   "cell_type": "code",
   "execution_count": 1,
   "metadata": {},
   "outputs": [],
   "source": [
    "# Import data\n",
    "import math\n",
    "\n",
    "data = [{\"name\": \"Cafe Morso\", \"lat\": -33.8636013, \"lng\": 151.1944983},{\"name\": \"Biaggio Cafe\", \"lat\": -33.8669667, \"lng\": 151.1958862}, {\"name\": \"Gelato Messina The Star\", \"lat\": -33.8684667, \"lng\": 151.1956278}, {\"name\": \"RC Phillips Boat Sales\", \"lat\": -33.8635498, \"lng\": 151.1950118},{\"name\": \"Bodum Australia Head Office\", \"lat\": -33.8636762, \"lng\": 151.1948455}\n",
    ",{\"name\": \"Panther Motors (Aust) Pty Ltd\", \"lat\": -33.8667605, \"lng\": 151.1931217}, {\"name\": \"Zoo Super Digi\", \"lat\": -33.8663992, \"lng\": 151.1947179}, {\"name\": \"The Waffie\", \"lat\": -33.8664345, \"lng\": 151.1941452}, {\"name\": \"Moda Emporio\", \"lat\": -33.8677499, \"lng\": 151.1956285}, {\"name\": \"Kennedy Star Sydney\", \"lat\": -33.867843, \"lng\": 151.1954586}\n",
    ",{\"name\": \"Cafe Tango Espresso\", \"lat\": -33.868837, \"lng\": 151.1975361}, {\"name\": \"Gucci\", \"lat\": -33.8682215, \"lng\": 151.1953756}, {\"name\": \"Bottega Veneta The Star\", \"lat\": -33.8682215, \"lng\": 151.1953756}, {\"name\": \"CB Phillips\", \"lat\": -33.8635983, \"lng\": 151.1946846}, {\"name\": \"MANZONI ACCESSORIES\", \"lat\": -33.86350300000001, \"lng\": 151.194921}\n",
    ", {\"name\": \"Sundance Marine Boat Sales\", \"lat\": -33.8634872, \"lng\": 151.1945292}, {\"name\": \"PrincessOnly\", \"lat\": -33.8675876, \"lng\": 151.1930803}, {\"name\": \"INNOWOOD\", \"lat\": -33.86292160000001, \"lng\": 151.1953621}, {\"name\": \"Australian Superyachts Pty Ltd\", \"lat\": -33.863115, \"lng\": 151.194841}, {\"name\": \"IBD Medical\", \"lat\": -33.868403, \"lng\": 151.193739}]\n",
    "\n",
    "\n",
    "def deg2rad(deg):\n",
    "    return deg * (math.pi/180)  \n",
    "\n",
    "def distance(a, b):   \n",
    "    R = 6371                \n",
    "    dLat = deg2rad(a[\"lat\"] - b[\"lat\"])\n",
    "    dLng = deg2rad(a[\"lng\"] - b[\"lng\"])\n",
    "    A =  math.sin(dLat/2) * math.sin(dLat/2) + math.cos(deg2rad(a[\"lat\"])) * math.cos(deg2rad(b[\"lat\"])) * math.sin(dLng/2) * math.sin(dLng/2) \n",
    "    C = 2 * math.atan2(math.sqrt(A), math.sqrt(1-A)) \n",
    "    D = R * C  \n",
    "\n",
    "    return D\n",
    "\n",
    "# def constructGraph():\n",
    "#     graph = {}\n",
    "#     for point in stations:\n",
    "#         for adj in stations:\n",
    "#             if (point == adj):\n",
    "#                 continue\n",
    "#             if (distance(stations[point], stations[adj]) <= max_dis ):\n",
    "#                 graph[point] = graph[point] or {}\n",
    "#                 graph[point][adj] = distance(stations[point], stations[adj])\n",
    "                \n"
   ]
  },
  {
   "cell_type": "code",
   "execution_count": 2,
   "metadata": {},
   "outputs": [],
   "source": [
    "#Graph 1\n",
    "import collections\n",
    "locations = {}\n",
    "for loc in data:\n",
    "    locations[loc[\"name\"]] = {\"lat\": loc[\"lat\"], \"lng\": loc[\"lng\"]}\n",
    "    \n",
    "graph = collections.defaultdict(dict)\n",
    "for point in locations.items():\n",
    "    for adj in locations.items():\n",
    "        if (point == adj):\n",
    "                continue\n",
    "        graph[point[0]][adj[0]] = distance(point[1],adj[1])"
   ]
  },
  {
   "cell_type": "code",
   "execution_count": 2,
   "metadata": {},
   "outputs": [],
   "source": [
    "# Allan's Algorithm\n",
    "import heapq\n",
    "import collections \n",
    "\n",
    "locations = {}\n",
    "for loc in data:\n",
    "    locations[loc[\"name\"]] = {\"lat\": loc[\"lat\"], \"lng\": loc[\"lng\"]}\n",
    "    \n",
    "hq = []\n",
    "for point in locations.items():\n",
    "    for adj in locations.items():\n",
    "        if (point == adj):\n",
    "                continue\n",
    "        heapq.heappush(hq, (distance(point[1],adj[1]), point[0], adj[0]))\n",
    "        \n",
    "seen = set()\n",
    "graph = collections.defaultdict(dict)\n",
    "\n",
    "while hq:\n",
    "    dis, place1, place2 = heapq.heappop(hq)\n",
    "    graph[place1][place2] = dis\n",
    "    graph[place2][place1] = dis\n",
    "\n",
    "    seen.add(place1)\n",
    "    seen.add(place2)\n",
    "    if len(seen) == 20:\n",
    "        break"
   ]
  },
  {
   "cell_type": "code",
   "execution_count": 11,
   "metadata": {},
   "outputs": [
    {
     "name": "stdout",
     "output_type": "stream",
     "text": [
      "Biaggio Cafe 0.39554837417712924\n",
      "Gelato Messina The Star 0.5509674546161845\n",
      "RC Phillips Boat Sales 0.0477573462636366\n",
      "Bodum Australia Head Office 0.0331220343777154\n",
      "Panther Motors (Aust) Pty Ltd 0.37357414277129536\n",
      "Zoo Super Digi 0.3117722980919176\n",
      "The Waffie 0.3167199086507048\n",
      "Moda Emporio 0.47295875706277013\n",
      "Kennedy Star Sydney 0.47991703911857175\n",
      "Cafe Tango Espresso 0.646224370113195\n",
      "Gucci 0.5200892707743869\n",
      "Bottega Veneta The Star 0.5200892707743869\n",
      "CB Phillips 0.017204785903442127\n",
      "MANZONI ACCESSORIES 0.040530687988366405\n",
      "Sundance Marine Boat Sales 0.01300417912639997\n",
      "PrincessOnly 0.46218762273389485\n",
      "INNOWOOD 0.10987911097116505\n",
      "Australian Superyachts Pty Ltd 0.06265183283013465\n",
      "IBD Medical 0.5385075965753258\n"
     ]
    }
   ],
   "source": [
    "curr_no = \"Cafe Morso\"\n",
    "for name, dist in graph[curr_no].items():\n",
    "    print(name, dist)"
   ]
  },
  {
   "cell_type": "code",
   "execution_count": 5,
   "metadata": {},
   "outputs": [
    {
     "name": "stdout",
     "output_type": "stream",
     "text": [
      "The shortest path is ['Panther Motors (Aust) Pty Ltd', 'PrincessOnly', 'The Waffie', 'Zoo Super Digi', 'IBD Medical', 'Biaggio Cafe', 'Moda Emporio', 'Kennedy Star Sydney', 'Bottega Veneta The Star', 'Gucci', 'Gelato Messina The Star', 'Cafe Tango Espresso']\n"
     ]
    }
   ],
   "source": [
    "import heapq\n",
    "\n",
    "start = \"Panther Motors (Aust) Pty Ltd\"\n",
    "stop = \"Cafe Tango Espresso\"\n",
    "\n",
    "hq = []\n",
    "parents = {}\n",
    "seen = set()\n",
    "\n",
    "heapq.heappush(hq, (0,start))\n",
    "\n",
    "\n",
    "while hq:\n",
    "    distance, curr_node = heapq.heappop(hq)\n",
    "    if curr_node == stop:\n",
    "        break\n",
    "        \n",
    "    if curr_node in seen:\n",
    "        continue\n",
    "    \n",
    "    seen.add(curr_node)\n",
    "    \n",
    "    for name, dis in graph[curr_node].items():\n",
    "        if name not in seen:\n",
    "            heapq.heappush(hq, (dis, name))\n",
    "            parents[name] = curr_node\n",
    "        \n",
    "        \n",
    "        \n",
    "    \n",
    "    \n",
    "path = [stop]\n",
    "i = 0\n",
    "while start not in path:\n",
    "    path.append(parents[path[i]])\n",
    "    i += 1\n",
    "\n",
    "print(f\"The shortest path is {path[::-1]}\")\n",
    " \n",
    "    "
   ]
  },
  {
   "cell_type": "code",
   "execution_count": 3,
   "metadata": {},
   "outputs": [
    {
     "name": "stdout",
     "output_type": "stream",
     "text": [
      "The distance to go from Panther Motors (Aust) Pty Ltd to Cafe Tango Espresso is 0.4684320608680007!\n",
      "The shortest path is ['Panther Motors (Aust) Pty Ltd', 'Cafe Tango Espresso']\n"
     ]
    }
   ],
   "source": [
    "# Djikstra\n",
    "inf = float(\"inf\")\n",
    "start = \"Panther Motors (Aust) Pty Ltd\"\n",
    "stop = \"Cafe Tango Espresso\"\n",
    "\n",
    "costs = {}\n",
    "parents = {}\n",
    "\n",
    "for node in graph:\n",
    "    costs[node] = inf\n",
    "    parents[node] = {} # path to node\n",
    "    \n",
    "costs[start] = 0\n",
    "# print(f\"costs = {costs}\")\n",
    "\n",
    "def find_cheapest_node(costs, not_checked):\n",
    "    lowest_cost = inf\n",
    "    cheapest_node = None\n",
    "    for node in not_checked:\n",
    "        if costs[node] <= lowest_cost:\n",
    "            lowest_cost = costs[node]\n",
    "            cheapest_node = node        \n",
    "    return cheapest_node\n",
    "\n",
    "# shortest path\n",
    "not_checked = [node for node in costs]\n",
    "node = find_cheapest_node(costs, not_checked)\n",
    "# print(f\"node = {node}\")\n",
    "while not_checked: # iterate over non-checked nodes\n",
    "#     print(f\"Not Checked: {not_checked}\")\n",
    "    cost = costs[node]\n",
    "    child_cost = graph[node]\n",
    "    for c in child_cost:\n",
    "        # if cost current path < cost of curr record, update cost\n",
    "#         print(f\"c = {c}\")\n",
    "        if costs[c] > cost + child_cost[c]:\n",
    "            costs[c] = cost + child_cost[c]\n",
    "            parents[c] = node # update parent node so we know to to backtrack to shortest path\n",
    "\n",
    "    not_checked.pop(not_checked.index(node))\n",
    "    node = find_cheapest_node(costs, not_checked)\n",
    "\n",
    "print(f\"The distance to go from {start} to {stop} is {costs[stop]}!\")\n",
    "\n",
    "# Build final path\n",
    "# iterate through parents dic\n",
    "\n",
    "if costs[stop] < inf:\n",
    "    path = [stop]\n",
    "    i = 0\n",
    "    while start not in path:\n",
    "        path.append(parents[path[i]])\n",
    "        i += 1\n",
    "\n",
    "    print(f\"The shortest path is {path[::-1]}\")\n"
   ]
  },
  {
   "cell_type": "code",
   "execution_count": 5,
   "metadata": {},
   "outputs": [
    {
     "data": {
      "text/plain": [
       "{'lat': -33.8667605, 'lng': 151.1931217}"
      ]
     },
     "execution_count": 5,
     "metadata": {},
     "output_type": "execute_result"
    }
   ],
   "source": [
    "locations[\"Panther Motors (Aust) Pty Ltd\"]"
   ]
  },
  {
   "cell_type": "code",
   "execution_count": null,
   "metadata": {},
   "outputs": [],
   "source": []
  }
 ],
 "metadata": {
  "kernelspec": {
   "display_name": "Python 3",
   "language": "python",
   "name": "python3"
  },
  "language_info": {
   "codemirror_mode": {
    "name": "ipython",
    "version": 3
   },
   "file_extension": ".py",
   "mimetype": "text/x-python",
   "name": "python",
   "nbconvert_exporter": "python",
   "pygments_lexer": "ipython3",
   "version": "3.6.8"
  }
 },
 "nbformat": 4,
 "nbformat_minor": 4
}
